{
  "cells": [
    {
      "cell_type": "code",
      "execution_count": 1,
      "metadata": {
        "colab": {
          "base_uri": "https://localhost:8080/"
        },
        "id": "CDZsTRV3yfJX",
        "outputId": "67318027-af4f-4965-ee59-987ef2f0942f"
      },
      "outputs": [
        {
          "name": "stdout",
          "output_type": "stream",
          "text": [
            "Requirement already satisfied: scikit-learn==1.4.2 in /usr/local/lib/python3.10/dist-packages (1.4.2)\n",
            "Requirement already satisfied: numpy>=1.19.5 in /usr/local/lib/python3.10/dist-packages (from scikit-learn==1.4.2) (1.25.2)\n",
            "Requirement already satisfied: scipy>=1.6.0 in /usr/local/lib/python3.10/dist-packages (from scikit-learn==1.4.2) (1.11.4)\n",
            "Requirement already satisfied: joblib>=1.2.0 in /usr/local/lib/python3.10/dist-packages (from scikit-learn==1.4.2) (1.4.0)\n",
            "Requirement already satisfied: threadpoolctl>=2.0.0 in /usr/local/lib/python3.10/dist-packages (from scikit-learn==1.4.2) (3.5.0)\n"
          ]
        }
      ],
      "source": [
        "!pip install scikit-learn==1.4.2"
      ]
    },
    {
      "cell_type": "code",
      "execution_count": 2,
      "metadata": {
        "colab": {
          "base_uri": "https://localhost:8080/"
        },
        "id": "jOTfLdbSCh82",
        "outputId": "31506188-9849-4b4e-9ca7-8503c8139c5b"
      },
      "outputs": [
        {
          "name": "stdout",
          "output_type": "stream",
          "text": [
            "Accuracy of the model: 99.67%\n"
          ]
        },
        {
          "data": {
            "text/plain": [
              "['team_encoder.pkl']"
            ]
          },
          "execution_count": 2,
          "metadata": {},
          "output_type": "execute_result"
        }
      ],
      "source": [
        "import pandas as pd\n",
        "from sklearn.model_selection import train_test_split\n",
        "from sklearn.ensemble import RandomForestClassifier\n",
        "from sklearn.metrics import accuracy_score\n",
        "from sklearn.preprocessing import LabelEncoder\n",
        "import joblib\n",
        "\n",
        "# Charger le dataset\n",
        "data = pd.read_csv('/content/matchss.csv')\n",
        "\n",
        "# Encoder les noms des équipes\n",
        "encoder = LabelEncoder()\n",
        "data['team_encoded'] = encoder.fit_transform(data['team_name'])\n",
        "data['opponent_encoded'] = encoder.fit_transform(data['Opponent'])\n",
        "\n",
        "# Fonction pour calculer les confrontations directes\n",
        "def get_direct_matches(data, home_team, away_team, current_season):\n",
        "    current_season_year = int(current_season.split('-')[0])\n",
        "    data['season_start_year'] = data['saison'].apply(lambda x: int(x.split('-')[0]))\n",
        "    past_matches = data[((data['team_name'] == home_team) & (data['Opponent'] == away_team) |\n",
        "                         (data['team_name'] == away_team) & (data['Opponent'] == home_team)) &\n",
        "                        (data['season_start_year'] < current_season_year)]\n",
        "    home_wins = len(past_matches[(past_matches['team_name'] == home_team) & (past_matches['Result'] == 'Win')])\n",
        "    away_wins = len(past_matches[(past_matches['team_name'] == away_team) & (past_matches['Result'] == 'Win')])\n",
        "    draws = len(past_matches[past_matches['Result'] == 'Draw'])\n",
        "    return home_wins, away_wins, draws\n",
        "\n",
        "# Appliquer la fonction pour chaque ligne dans le DataFrame\n",
        "data['direct_matches_stats'] = data.apply(lambda row: get_direct_matches(data, row['team_name'], row['Opponent'], row['saison']), axis=1)\n",
        "\n",
        "# Extraire les statistiques dans des colonnes séparées\n",
        "data['home_team_direct_wins'] = data['direct_matches_stats'].apply(lambda x: x[0])\n",
        "data['away_team_direct_wins'] = data['direct_matches_stats'].apply(lambda x: x[1])\n",
        "data['direct_draws'] = data['direct_matches_stats'].apply(lambda x: x[2])\n",
        "data.drop(['direct_matches_stats', 'season_start_year'], axis=1, inplace=True)\n",
        "\n",
        "# Sélection des features pour l'entraînement\n",
        "features = ['team_encoded', 'opponent_encoded', 'scored', 'conceded', 'xG', 'xGA', 'Prob Win', 'Prob Draw', 'home_team_direct_wins', 'away_team_direct_wins', 'direct_draws']\n",
        "X = data[features]\n",
        "y = data['Result']\n",
        "\n",
        "# Diviser les données en sets d'entraînement et de test\n",
        "X_train, X_test, y_train, y_test = train_test_split(X, y, test_size=0.2, random_state=42)\n",
        "\n",
        "# Construire et entraîner le modèle\n",
        "model = RandomForestClassifier(n_estimators=100, random_state=42)\n",
        "model.fit(X_train, y_train)\n",
        "\n",
        "# Évaluer le modèle\n",
        "accuracy = accuracy_score(y_test, model.predict(X_test))\n",
        "print(f\"Accuracy of the model: {accuracy * 100:.2f}%\")\n",
        "\n",
        "# Sauvegarder le modèle et l'encodeur\n",
        "joblib.dump(model, 'football_prediction_model.pkl')\n",
        "joblib.dump(encoder, 'team_encoder.pkl')\n"
      ]
    },
    {
      "cell_type": "code",
      "execution_count": 3,
      "metadata": {
        "colab": {
          "base_uri": "https://localhost:8080/"
        },
        "id": "bKE8UgFSJccF",
        "outputId": "df6dc1f9-8649-4a69-e74d-9afc6f6f4087"
      },
      "outputs": [
        {
          "name": "stdout",
          "output_type": "stream",
          "text": [
            "Hello! I'm your football match result predictor.\n",
            "Enter the name of the home team: Chelsea\n",
            "Enter the name of the away team: Liverpool\n",
            "Predicted Probability of Home Win for Chelsea: 5.00%\n",
            "Predicted Probability of Away Win for Liverpool: 3.00%\n",
            "Predicted Probability of Draw: 92.00%\n"
          ]
        },
        {
          "name": "stderr",
          "output_type": "stream",
          "text": [
            "/usr/local/lib/python3.10/dist-packages/sklearn/base.py:493: UserWarning: X does not have valid feature names, but RandomForestClassifier was fitted with feature names\n",
            "  warnings.warn(\n"
          ]
        }
      ],
      "source": [
        "def predict_match():\n",
        "    print(\"Hello! I'm your football match result predictor.\")\n",
        "\n",
        "    # Charger le modèle et l'encodeur\n",
        "    model = joblib.load('football_prediction_model.pkl')\n",
        "    encoder = joblib.load('team_encoder.pkl')\n",
        "\n",
        "    # Demander les noms des équipes\n",
        "    home_team = input(\"Enter the name of the home team: \")\n",
        "    away_team = input(\"Enter the name of the away team: \")\n",
        "\n",
        "    # Encoder les noms des équipes\n",
        "    try:\n",
        "        home_encoded = encoder.transform([home_team])[0]\n",
        "        away_encoded = encoder.transform([away_team])[0]\n",
        "    except ValueError:\n",
        "        print(\"One of the team names is not recognized. Please enter valid team names.\")\n",
        "        return\n",
        "\n",
        "    # Utiliser des valeurs neutres pour les autres features (Exemple, ces valeurs devraient être basées sur des données réelles ou estimées)\n",
        "    features = [[home_encoded, away_encoded, 0, 0, 0, 0, 50, 25, 0, 0, 0]]  # Exemple fictif avec 50% win, 25% draw\n",
        "\n",
        "    # Obtenir les prédictions de probabilités\n",
        "    probability = model.predict_proba(features)[0]\n",
        "\n",
        "    # Afficher les résultats prédits\n",
        "    print(f\"Predicted Probability of Home Win for {home_team}: {probability[2]*100:.2f}%\")\n",
        "    print(f\"Predicted Probability of Away Win for {away_team}: {probability[1]*100:.2f}%\")\n",
        "    print(f\"Predicted Probability of Draw: {probability[0]*100:.2f}%\")\n",
        "\n",
        "# Vous pouvez maintenant appeler cette fonction pour tester vos prédictions\n",
        "predict_match()\n"
      ]
    },
    {
      "cell_type": "code",
      "execution_count": null,
      "metadata": {
        "id": "S5sFENP1EluE"
      },
      "outputs": [],
      "source": []
    }
  ],
  "metadata": {
    "colab": {
      "provenance": []
    },
    "kernelspec": {
      "display_name": "Python 3",
      "name": "python3"
    },
    "language_info": {
      "name": "python"
    }
  },
  "nbformat": 4,
  "nbformat_minor": 0
}
